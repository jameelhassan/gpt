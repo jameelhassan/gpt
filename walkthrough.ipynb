{
 "cells": [
  {
   "cell_type": "markdown",
   "metadata": {},
   "source": [
    "### Load Data --> Shakespear dataset"
   ]
  },
  {
   "cell_type": "code",
   "execution_count": 2,
   "metadata": {},
   "outputs": [],
   "source": [
    "txt_pth = './shakespeare_train.txt'\n",
    "with open(txt_pth, 'r', encoding='utf-8') as f:\n",
    "    text = f.read()"
   ]
  },
  {
   "cell_type": "code",
   "execution_count": 3,
   "metadata": {},
   "outputs": [
    {
     "name": "stdout",
     "output_type": "stream",
     "text": [
      "First Citizen:\n",
      "Before we proceed any further, hear me speak.\n",
      "\n",
      "All:\n",
      "Speak, speak.\n",
      "\n",
      "First Citizen:\n",
      "You are all resolved rather to die than to famish?\n",
      "\n",
      "All:\n",
      "Resolved. resolved.\n",
      "\n",
      "First Citizen:\n",
      "First, you\n"
     ]
    }
   ],
   "source": [
    "print(text[:200])"
   ]
  },
  {
   "cell_type": "markdown",
   "metadata": {},
   "source": [
    "### Chars, encoder and decoder"
   ]
  },
  {
   "cell_type": "code",
   "execution_count": 4,
   "metadata": {},
   "outputs": [
    {
     "name": "stdout",
     "output_type": "stream",
     "text": [
      "62 \n",
      " !&',-.:;?ABCDEFGHIJKLMNOPQRSTUVWYZabcdefghijklmnopqrstuvwxyz\n"
     ]
    }
   ],
   "source": [
    "chars = sorted(list(set(text)))\n",
    "vocab_size = (len(chars))\n",
    "print(vocab_size, ''.join(chars))"
   ]
  },
  {
   "cell_type": "code",
   "execution_count": 5,
   "metadata": {},
   "outputs": [],
   "source": [
    "stoi = {ch:i for i,ch in enumerate(chars)}\n",
    "itos = {i:ch for i,ch in enumerate(chars)}\n",
    "encode = lambda s: [stoi[l] for l in s]\n",
    "decode = lambda x: ''.join([itos[c] for c in x])"
   ]
  },
  {
   "cell_type": "markdown",
   "metadata": {},
   "source": [
    "### Train and Test splits"
   ]
  },
  {
   "cell_type": "code",
   "execution_count": 6,
   "metadata": {},
   "outputs": [
    {
     "data": {
      "text/plain": [
       "<torch._C.Generator at 0x1208bf4b0>"
      ]
     },
     "execution_count": 6,
     "metadata": {},
     "output_type": "execute_result"
    }
   ],
   "source": [
    "import torch\n",
    "torch.manual_seed(1337)"
   ]
  },
  {
   "cell_type": "code",
   "execution_count": 7,
   "metadata": {},
   "outputs": [],
   "source": [
    "data = torch.tensor(encode(text))\n",
    "n = int(0.9*len(data))\n",
    "train_data = data[:n]\n",
    "val_data = data[n:]"
   ]
  },
  {
   "cell_type": "markdown",
   "metadata": {},
   "source": [
    "### Data Loading"
   ]
  },
  {
   "cell_type": "code",
   "execution_count": 8,
   "metadata": {},
   "outputs": [],
   "source": [
    "batch_size = 4\n",
    "context_size = 8"
   ]
  },
  {
   "cell_type": "code",
   "execution_count": 9,
   "metadata": {},
   "outputs": [],
   "source": [
    "def get_batch(split='train'):\n",
    "    data = train_data if split == 'train' else val_data\n",
    "    idxs = torch.randint(len(data) - context_size, (batch_size,))\n",
    "    x = torch.stack([data[i:i + context_size] for i in idxs])\n",
    "    y = torch.stack([data[i + 1:i + 1 + context_size] for i in idxs])\n",
    "    return x, y"
   ]
  },
  {
   "cell_type": "code",
   "execution_count": 11,
   "metadata": {},
   "outputs": [
    {
     "data": {
      "text/plain": [
       "(tensor([[48, 51, 43, 36, 49, 55, 47, 60],\n",
       "         [50, 53,  1, 50, 56, 53,  1, 39],\n",
       "         [36, 38, 55, 44, 50, 49,  7,  0],\n",
       "         [28, 31, 30, 31, 29,  8,  0, 33]]),\n",
       " tensor([[51, 43, 36, 49, 55, 47, 60,  1],\n",
       "         [53,  1, 50, 56, 53,  1, 39, 40],\n",
       "         [38, 55, 44, 50, 49,  7,  0,  0],\n",
       "         [31, 30, 31, 29,  8,  0, 33, 43]]))"
      ]
     },
     "execution_count": 11,
     "metadata": {},
     "output_type": "execute_result"
    }
   ],
   "source": [
    "x, y = get_batch()\n",
    "x, y"
   ]
  },
  {
   "cell_type": "markdown",
   "metadata": {},
   "source": [
    "### Bigram model"
   ]
  },
  {
   "cell_type": "code",
   "execution_count": 24,
   "metadata": {},
   "outputs": [],
   "source": [
    "## Constructor, Forward, Generate\n",
    "import torch.nn as nn\n",
    "from torch.nn import functional as F\n",
    "\n",
    "class BigramLanguageModel(nn.Module):\n",
    "    def __init__(self, vocab_size):\n",
    "        super().__init__()\n",
    "        self.embedding_table = nn.Embedding(vocab_size, vocab_size)\n",
    "\n",
    "    def forward(self, idx, target=None):\n",
    "        # idx, target are both (B,T) tensors of integers\n",
    "        logits = self.embedding_table(idx) # (B,T,C)\n",
    "        \n",
    "        if target is None:\n",
    "            loss = None\n",
    "        else:\n",
    "            B, T, C = logits.shape\n",
    "            logits = logits.view(B*T, C)\n",
    "            loss = F.cross_entropy(logits, target.view(B*T)) # Cross entropy performs softmax on embedding within\n",
    "\n",
    "        return logits, loss\n",
    "    \n",
    "    def generate(self, idx, max_context_length=100):\n",
    "        # idx - (B, T)\n",
    "        for i in range(max_context_length):\n",
    "            logits, loss = self(idx) # (B, T, C)\n",
    "            # For Bigram model\n",
    "            logits = logits[:, -1, :] # (B, C)\n",
    "            probs = F.softmax(logits, -1) # (B, C)\n",
    "            # Sampling from the probability distribution to generate next token\n",
    "            idx_next = torch.multinomial(probs, num_samples=1) # (B, 1)\n",
    "            idx = torch.cat([idx, idx_next], dim=1)\n",
    "        return idx"
   ]
  },
  {
   "cell_type": "code",
   "execution_count": 25,
   "metadata": {},
   "outputs": [
    {
     "name": "stdout",
     "output_type": "stream",
     "text": [
      "tensor(4.4663, grad_fn=<NllLossBackward0>)\n",
      "\n",
      "TyTydxJ;bsuTyU-yvdx&BTnle-qyZRNZ;J!'Q,L?gU';aoY,LYvhCrrqk cZ.NvT-qL?llYZrAoJjgzSO:AeL\n",
      "twZ;TZAgJ'rjqS\n"
     ]
    }
   ],
   "source": [
    "lm = BigramLanguageModel(vocab_size)\n",
    "x, y = get_batch()\n",
    "logits, loss = lm(x, y)\n",
    "print(loss)\n",
    "\n",
    "inp_token = torch.zeros((1, 1), dtype=torch.long)\n",
    "print(decode(lm.generate(inp_token)[0].tolist()))"
   ]
  },
  {
   "cell_type": "markdown",
   "metadata": {},
   "source": [
    "### Training and Generation"
   ]
  },
  {
   "cell_type": "code",
   "execution_count": 92,
   "metadata": {},
   "outputs": [
    {
     "name": "stdout",
     "output_type": "stream",
     "text": [
      "2.444016695022583\n",
      "2.29287052154541\n",
      "2.4572906494140625\n",
      "2.3702685832977295\n",
      "2.270362138748169\n",
      "2.3412535190582275\n",
      "2.3811817169189453\n",
      "2.3535118103027344\n",
      "2.094773769378662\n",
      "2.0756685733795166\n",
      "2.4022254943847656\n",
      "2.330070972442627\n",
      "2.421736001968384\n",
      "2.3064239025115967\n",
      "2.0203874111175537\n",
      "1.9376918077468872\n",
      "2.5012989044189453\n",
      "2.4261655807495117\n",
      "2.1869139671325684\n",
      "2.6687002182006836\n"
     ]
    }
   ],
   "source": [
    "optimizer = torch.optim.AdamW(lm.parameters(), lr=1e-3)\n",
    "\n",
    "bs = 16\n",
    "for iter in range(10000):\n",
    "    x, y = get_batch('train')\n",
    "    logits, loss = lm(x, y)\n",
    "    optimizer.zero_grad(set_to_none=True)\n",
    "    loss.backward()\n",
    "    optimizer.step()\n",
    "    if iter % 500 == 0:\n",
    "        print(loss.item())"
   ]
  },
  {
   "cell_type": "markdown",
   "metadata": {},
   "source": [
    "## To do\n",
    "- add Language model head\n",
    "- add positional embedding\n",
    "- implement attention\n",
    "- multi-head attention"
   ]
  },
  {
   "cell_type": "code",
   "execution_count": 42,
   "metadata": {},
   "outputs": [],
   "source": [
    "import torch\n",
    "from torch.nn.functional import softmax"
   ]
  },
  {
   "cell_type": "code",
   "execution_count": 6,
   "metadata": {},
   "outputs": [
    {
     "data": {
      "text/plain": [
       "torch.Size([4, 8, 2])"
      ]
     },
     "execution_count": 6,
     "metadata": {},
     "output_type": "execute_result"
    }
   ],
   "source": [
    "B, T, C = 4, 8, 2\n",
    "x = torch.randn(B, T, C)\n",
    "x.shape"
   ]
  },
  {
   "cell_type": "code",
   "execution_count": 24,
   "metadata": {},
   "outputs": [
    {
     "name": "stdout",
     "output_type": "stream",
     "text": [
      "tensor([[ 1.2687,  0.9435],\n",
      "        [ 1.0437, -0.1767],\n",
      "        [-0.0919, -0.3312],\n",
      "        [-0.3671,  0.7606],\n",
      "        [ 1.5075,  0.7157],\n",
      "        [ 0.1446, -1.2157],\n",
      "        [ 0.0904,  1.6117],\n",
      "        [ 2.5648, -0.6219]]) tensor([[1.2687, 0.9435],\n",
      "        [1.1562, 0.3834],\n",
      "        [0.7401, 0.1452],\n",
      "        [0.4633, 0.2990],\n",
      "        [0.6722, 0.3824],\n",
      "        [0.5843, 0.1160],\n",
      "        [0.5137, 0.3297],\n",
      "        [0.7701, 0.2107]])\n"
     ]
    }
   ],
   "source": [
    "# xbow[b, t] = mean({i<=t}, x[b, i])\n",
    "xbow = torch.zeros_like(x)\n",
    "for b in range(B):\n",
    "    for t in range(T):\n",
    "        x_prev = x[b, :t+1] # (t, c)\n",
    "        xbow[b, t] = torch.mean(x_prev, dim=0)\n",
    "\n",
    "print(x[0], xbow[0])"
   ]
  },
  {
   "cell_type": "code",
   "execution_count": 78,
   "metadata": {},
   "outputs": [],
   "source": [
    "wei = torch.tril(torch.ones(T, T))\n",
    "wei = wei / wei.sum(dim=1, keepdim=True)\n",
    "xbow2 = wei @ x # (T,T) @ (B, T, C) -- (B, T, C)"
   ]
  },
  {
   "cell_type": "code",
   "execution_count": 79,
   "metadata": {},
   "outputs": [
    {
     "data": {
      "text/plain": [
       "True"
      ]
     },
     "execution_count": 79,
     "metadata": {},
     "output_type": "execute_result"
    }
   ],
   "source": [
    "torch.allclose(xbow, xbow2)"
   ]
  },
  {
   "cell_type": "code",
   "execution_count": 96,
   "metadata": {},
   "outputs": [],
   "source": [
    "wei = torch.zeros((T, T))\n",
    "tril = torch.tril(torch.ones_like(wei))\n",
    "wei = wei.masked_fill(tril == 0, float('-inf'))\n",
    "wei = softmax(wei, dim=1)"
   ]
  },
  {
   "cell_type": "code",
   "execution_count": 98,
   "metadata": {},
   "outputs": [
    {
     "data": {
      "text/plain": [
       "True"
      ]
     },
     "execution_count": 98,
     "metadata": {},
     "output_type": "execute_result"
    }
   ],
   "source": [
    "xbow3 = wei @ x # (T,T) @ (B, T, C) -- (B, T, C)\n",
    "torch.allclose(xbow3, xbow2)"
   ]
  },
  {
   "cell_type": "code",
   "execution_count": null,
   "metadata": {},
   "outputs": [],
   "source": []
  }
 ],
 "metadata": {
  "kernelspec": {
   "display_name": "ai702",
   "language": "python",
   "name": "python3"
  },
  "language_info": {
   "codemirror_mode": {
    "name": "ipython",
    "version": 3
   },
   "file_extension": ".py",
   "mimetype": "text/x-python",
   "name": "python",
   "nbconvert_exporter": "python",
   "pygments_lexer": "ipython3",
   "version": "3.8.19"
  }
 },
 "nbformat": 4,
 "nbformat_minor": 5
}
